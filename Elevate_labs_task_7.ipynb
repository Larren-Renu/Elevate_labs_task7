{
  "nbformat": 4,
  "nbformat_minor": 0,
  "metadata": {
    "colab": {
      "provenance": []
    },
    "kernelspec": {
      "name": "python3",
      "display_name": "Python 3"
    },
    "language_info": {
      "name": "python"
    }
  },
  "cells": [
    {
      "cell_type": "code",
      "execution_count": 4,
      "metadata": {
        "id": "WsyS93Gno3bb"
      },
      "outputs": [],
      "source": [
        "import pandas as pd\n",
        "import matplotlib.pyplot as plt\n",
        "import seaborn as sns\n",
        "import sqlite3 as sql"
      ]
    },
    {
      "cell_type": "code",
      "source": [
        "data = pd.read_csv('/content/sales_data.csv')"
      ],
      "metadata": {
        "id": "t7sVlnhIpDiH"
      },
      "execution_count": 5,
      "outputs": []
    },
    {
      "cell_type": "code",
      "source": [
        "conn = sql.connect(\"sales_data.db\")"
      ],
      "metadata": {
        "id": "OybEBWi0phl4"
      },
      "execution_count": 6,
      "outputs": []
    },
    {
      "cell_type": "code",
      "source": [
        "data.to_sql(\"sales\", conn, if_exists=\"replace\", index=False)"
      ],
      "metadata": {
        "colab": {
          "base_uri": "https://localhost:8080/"
        },
        "id": "BBLPgy1cqGDQ",
        "outputId": "176671f4-fc91-4ff6-fcc8-66fdc8576c80"
      },
      "execution_count": 9,
      "outputs": [
        {
          "output_type": "execute_result",
          "data": {
            "text/plain": [
              "200"
            ]
          },
          "metadata": {},
          "execution_count": 9
        }
      ]
    },
    {
      "cell_type": "code",
      "source": [
        "query_all = \"SELECT * FROM sales\"\n",
        "df_all = pd.read_sql_query(query_all, conn)\n",
        "print(\"Full 'sales' Table:\")\n",
        "print(df_all)"
      ],
      "metadata": {
        "colab": {
          "base_uri": "https://localhost:8080/"
        },
        "id": "18zO4l4bqLg4",
        "outputId": "c32eb755-8cdc-4b45-d281-95714b442e95"
      },
      "execution_count": 11,
      "outputs": [
        {
          "output_type": "stream",
          "name": "stdout",
          "text": [
            "Full 'sales' Table:\n",
            "           Date  Customer_Number  Quantity_Ordered  Price  Total_Sales  \\\n",
            "0    03-04-2025              166                10  11670       116700   \n",
            "1    28-11-2024              180                 3  31090        93270   \n",
            "2    30-11-2024              188                 2  46500        93000   \n",
            "3    13-02-2025              192                 4  71480       285920   \n",
            "4    07-12-2024              106                 6  16810       100860   \n",
            "..          ...              ...               ...    ...          ...   \n",
            "195  26-03-2025              183                 7  77450       542150   \n",
            "196  14-01-2025              133                 2  67700       135400   \n",
            "197  07-01-2025              160                 5  37280       186400   \n",
            "198  25-10-2024              169                 4  11730        46920   \n",
            "199  12-03-2025              102                 5  58240       291200   \n",
            "\n",
            "     Country Quarter_ID      Product_Type  \n",
            "0    Germany         Q2  Sports Equipment  \n",
            "1     Canada         Q4       Electronics  \n",
            "2     Canada         Q4         Furniture  \n",
            "3     France         Q1  Sports Equipment  \n",
            "4     France         Q4         Furniture  \n",
            "..       ...        ...               ...  \n",
            "195   France         Q1       Electronics  \n",
            "196   France         Q1  Sports Equipment  \n",
            "197      USA         Q1              Toys  \n",
            "198  Germany         Q4          Clothing  \n",
            "199       UK         Q1       Electronics  \n",
            "\n",
            "[200 rows x 8 columns]\n"
          ]
        }
      ]
    },
    {
      "cell_type": "code",
      "source": [
        "query = ''' Select sum(Total_Sales) as Total_sale from sales where Country = 'USA' '''\n",
        "df1 = pd.read_sql_query(query, conn)\n",
        "print(\"Full 'sales' Table:\")\n",
        "print(df1)"
      ],
      "metadata": {
        "colab": {
          "base_uri": "https://localhost:8080/"
        },
        "id": "bS1VBNmUqSX5",
        "outputId": "5d3eddfb-5a0c-4bf3-9b87-c0c03351359e"
      },
      "execution_count": 12,
      "outputs": [
        {
          "output_type": "stream",
          "name": "stdout",
          "text": [
            "Full 'sales' Table:\n",
            "   Total_sale\n",
            "0     9560040\n"
          ]
        }
      ]
    },
    {
      "cell_type": "code",
      "source": [
        "query1 = ''' Select sum(Quantity_Ordered) from sales group by(Quarter_ID)   '''\n",
        "df2 = pd.read_sql_query(query1, conn)\n",
        "print(\"Full 'sales' Table:\")\n",
        "print(df2)"
      ],
      "metadata": {
        "colab": {
          "base_uri": "https://localhost:8080/"
        },
        "id": "u6lQ7C1osOEj",
        "outputId": "f6b11b7c-ee6e-4def-91e2-bdc36eb66da7"
      },
      "execution_count": 24,
      "outputs": [
        {
          "output_type": "stream",
          "name": "stdout",
          "text": [
            "Full 'sales' Table:\n",
            "   sum(Quantity_Ordered)\n",
            "0                    572\n",
            "1                     43\n",
            "2                    534\n"
          ]
        }
      ]
    },
    {
      "cell_type": "code",
      "source": [
        "data1=data.groupby('Country')['Total_Sales'].sum().reset_index()\n",
        "data1.plot(kind='bar', x='Country', y='Total_Sales')\n",
        "plt.title('Total Sales by Country')\n",
        "plt.xlabel('Country')\n",
        "plt.ylabel('Total Sales')\n",
        "plt.savefig(\"total_sales_by_country.png\")\n",
        "plt.tight_layout()\n",
        "plt.show()"
      ],
      "metadata": {
        "colab": {
          "base_uri": "https://localhost:8080/",
          "height": 487
        },
        "id": "AGgJ1-zIrM2t",
        "outputId": "9c6c5c54-2b5e-458c-e386-4af046343e70"
      },
      "execution_count": 20,
      "outputs": [
        {
          "output_type": "display_data",
          "data": {
            "text/plain": [
              "<Figure size 640x480 with 1 Axes>"
            ],
            "image/png": "[encoded data removed]"
          },
          "metadata": {}
        }
      ]
    }
  ]
}